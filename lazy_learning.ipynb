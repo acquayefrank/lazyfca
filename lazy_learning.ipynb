{
 "cells": [
  {
   "cell_type": "markdown",
   "metadata": {},
   "source": [
    "###### Data Source: \n",
    "https://www.kaggle.com/hb20007/gender-classification\n",
    "\n",
    "###### Why: \n",
    "I thought it might be interesting to determine peoples gender based on their choices\n",
    "\n",
    "###### Possible Challenges: \n",
    "Questions asked are too generic in my opinion hence might be a bit harder to do\n",
    "\n",
    "###### Initial Mistakes: \n",
    "Tried Schuffling the data but realized it might skew the results cos I'll have all male or all female hence I \n",
    "split the data into test and train since I later realized the data had equal amount of males and females\n",
    "\n",
    "###### Characteristics of Data: \n",
    "Luckily for me all the attributes are categorical hence I can scale it easily \n",
    "\n",
    "###### Trial\n",
    "Attempt 1 --- Found Mode of Each attribute pertaining to gender and tried using that for prodiction, had bad results (2 out of 12)\n",
    "\n",
    "Attempt 2 --- Computed support per attribute and used attributes beyond 0.2 threshhold. Had better results (8 out of 12)\n",
    "\n",
    "###### Thoughts\n",
    "After the seond attempt it's realised the approach can be improved for mutiple attributes and genralized to solve more classification problems "
   ]
  },
  {
   "cell_type": "code",
   "execution_count": 1,
   "metadata": {},
   "outputs": [],
   "source": [
    "# importing needed libraries\n",
    "import pandas as pd\n",
    "import pandas_profiling"
   ]
  },
  {
   "cell_type": "code",
   "execution_count": 2,
   "metadata": {},
   "outputs": [],
   "source": [
    "# reading csv file\n",
    "df = pd.read_csv('data.csv')"
   ]
  },
  {
   "cell_type": "code",
   "execution_count": 3,
   "metadata": {},
   "outputs": [],
   "source": [
    "# profiling dataset for better insights into the data \n",
    "profile = df.profile_report(title='Pandas Profiling Report')\n",
    "profile.to_file(output_file=\"profile.html\")"
   ]
  },
  {
   "cell_type": "code",
   "execution_count": 4,
   "metadata": {},
   "outputs": [],
   "source": [
    "# removing duplicates\n",
    "df.drop_duplicates(inplace=True)"
   ]
  },
  {
   "cell_type": "code",
   "execution_count": 5,
   "metadata": {},
   "outputs": [],
   "source": [
    "# grouping data by gender and splitting data into male and female, \n",
    "# schuffling data to ensure randomization on multiple runs\n",
    "gb = df.groupby('Gender')  \n",
    "df_male = gb.get_group('M').sample(frac=1, random_state=1)\n",
    "df_female = gb.get_group('F').sample(frac=1, random_state=1)"
   ]
  },
  {
   "cell_type": "code",
   "execution_count": 6,
   "metadata": {},
   "outputs": [],
   "source": [
    "# creating test data\n",
    "df_test = pd.concat([df_male[-6:], df_female[-6:]])"
   ]
  },
  {
   "cell_type": "code",
   "execution_count": 7,
   "metadata": {},
   "outputs": [],
   "source": [
    "# removing test data fron training data\n",
    "df_male = df_male[:-6]"
   ]
  },
  {
   "cell_type": "code",
   "execution_count": 8,
   "metadata": {},
   "outputs": [],
   "source": [
    "# removing test data fron training data\n",
    "df_female = df_female[:-6]"
   ]
  },
  {
   "cell_type": "code",
   "execution_count": 9,
   "metadata": {},
   "outputs": [],
   "source": [
    "# exploring categorical data\n",
    "colors = df.Favorite_Color.unique()\n",
    "music_genres = df.Favorite_Music_Genre.unique()\n",
    "beverages = df.Favorite_Beverage.unique()\n",
    "soft_drinks = df.Favorite_Soft_Drink.unique()"
   ]
  },
  {
   "cell_type": "markdown",
   "metadata": {},
   "source": [
    "The following cells explore the various categorical data"
   ]
  },
  {
   "cell_type": "code",
   "execution_count": 10,
   "metadata": {},
   "outputs": [
    {
     "data": {
      "text/plain": [
       "Cool       14\n",
       "Warm        8\n",
       "Neutral     3\n",
       "Name: Favorite_Color, dtype: int64"
      ]
     },
     "execution_count": 10,
     "metadata": {},
     "output_type": "execute_result"
    }
   ],
   "source": [
    "df_male['Favorite_Color'].value_counts()"
   ]
  },
  {
   "cell_type": "code",
   "execution_count": 11,
   "metadata": {},
   "outputs": [
    {
     "data": {
      "text/plain": [
       "Cool       15\n",
       "Warm        9\n",
       "Neutral     1\n",
       "Name: Favorite_Color, dtype: int64"
      ]
     },
     "execution_count": 11,
     "metadata": {},
     "output_type": "execute_result"
    }
   ],
   "source": [
    "df_female['Favorite_Color'].value_counts()"
   ]
  },
  {
   "cell_type": "code",
   "execution_count": 12,
   "metadata": {},
   "outputs": [
    {
     "data": {
      "text/plain": [
       "Rock                7\n",
       "Electronic          6\n",
       "Hip hop             5\n",
       "R&B and soul        3\n",
       "Pop                 2\n",
       "Jazz/Blues          1\n",
       "Folk/Traditional    1\n",
       "Name: Favorite_Music_Genre, dtype: int64"
      ]
     },
     "execution_count": 12,
     "metadata": {},
     "output_type": "execute_result"
    }
   ],
   "source": [
    "df_male['Favorite_Music_Genre'].value_counts()"
   ]
  },
  {
   "cell_type": "code",
   "execution_count": 13,
   "metadata": {},
   "outputs": [
    {
     "data": {
      "text/plain": [
       "Pop                 10\n",
       "Rock                 6\n",
       "Jazz/Blues           2\n",
       "Electronic           2\n",
       "Folk/Traditional     2\n",
       "R&B and soul         2\n",
       "Hip hop              1\n",
       "Name: Favorite_Music_Genre, dtype: int64"
      ]
     },
     "execution_count": 13,
     "metadata": {},
     "output_type": "execute_result"
    }
   ],
   "source": [
    "df_female['Favorite_Music_Genre'].value_counts()"
   ]
  },
  {
   "cell_type": "code",
   "execution_count": 14,
   "metadata": {},
   "outputs": [
    {
     "data": {
      "text/plain": [
       "Doesn't drink    7\n",
       "Other            4\n",
       "Beer             4\n",
       "Vodka            4\n",
       "Wine             3\n",
       "Whiskey          3\n",
       "Name: Favorite_Beverage, dtype: int64"
      ]
     },
     "execution_count": 14,
     "metadata": {},
     "output_type": "execute_result"
    }
   ],
   "source": [
    "df_male['Favorite_Beverage'].value_counts()"
   ]
  },
  {
   "cell_type": "code",
   "execution_count": 15,
   "metadata": {},
   "outputs": [
    {
     "data": {
      "text/plain": [
       "Whiskey          5\n",
       "Beer             5\n",
       "Other            4\n",
       "Doesn't drink    4\n",
       "Wine             4\n",
       "Vodka            3\n",
       "Name: Favorite_Beverage, dtype: int64"
      ]
     },
     "execution_count": 15,
     "metadata": {},
     "output_type": "execute_result"
    }
   ],
   "source": [
    "df_female['Favorite_Beverage'].value_counts()"
   ]
  },
  {
   "cell_type": "code",
   "execution_count": 16,
   "metadata": {},
   "outputs": [
    {
     "data": {
      "text/plain": [
       "Coca Cola/Pepsi    13\n",
       "7UP/Sprite          5\n",
       "Fanta               5\n",
       "Other               2\n",
       "Name: Favorite_Soft_Drink, dtype: int64"
      ]
     },
     "execution_count": 16,
     "metadata": {},
     "output_type": "execute_result"
    }
   ],
   "source": [
    "df_female['Favorite_Soft_Drink'].value_counts()"
   ]
  },
  {
   "cell_type": "code",
   "execution_count": 17,
   "metadata": {},
   "outputs": [
    {
     "data": {
      "text/plain": [
       "Coca Cola/Pepsi    10\n",
       "Fanta               7\n",
       "Other               4\n",
       "7UP/Sprite          4\n",
       "Name: Favorite_Soft_Drink, dtype: int64"
      ]
     },
     "execution_count": 17,
     "metadata": {},
     "output_type": "execute_result"
    }
   ],
   "source": [
    "df_male['Favorite_Soft_Drink'].value_counts()"
   ]
  },
  {
   "cell_type": "markdown",
   "metadata": {},
   "source": [
    "Exploring mode as a means of possible classification. \n",
    "Just by inspection, the mode will produce too many errors "
   ]
  },
  {
   "cell_type": "code",
   "execution_count": 18,
   "metadata": {},
   "outputs": [
    {
     "data": {
      "text/html": [
       "<div>\n",
       "<style scoped>\n",
       "    .dataframe tbody tr th:only-of-type {\n",
       "        vertical-align: middle;\n",
       "    }\n",
       "\n",
       "    .dataframe tbody tr th {\n",
       "        vertical-align: top;\n",
       "    }\n",
       "\n",
       "    .dataframe thead th {\n",
       "        text-align: right;\n",
       "    }\n",
       "</style>\n",
       "<table border=\"1\" class=\"dataframe\">\n",
       "  <thead>\n",
       "    <tr style=\"text-align: right;\">\n",
       "      <th></th>\n",
       "      <th>Favorite_Color</th>\n",
       "      <th>Favorite_Music_Genre</th>\n",
       "      <th>Favorite_Beverage</th>\n",
       "      <th>Favorite_Soft_Drink</th>\n",
       "      <th>Gender</th>\n",
       "    </tr>\n",
       "  </thead>\n",
       "  <tbody>\n",
       "    <tr>\n",
       "      <th>0</th>\n",
       "      <td>Cool</td>\n",
       "      <td>Rock</td>\n",
       "      <td>Doesn't drink</td>\n",
       "      <td>Coca Cola/Pepsi</td>\n",
       "      <td>M</td>\n",
       "    </tr>\n",
       "  </tbody>\n",
       "</table>\n",
       "</div>"
      ],
      "text/plain": [
       "  Favorite_Color Favorite_Music_Genre Favorite_Beverage Favorite_Soft_Drink  \\\n",
       "0           Cool                 Rock     Doesn't drink     Coca Cola/Pepsi   \n",
       "\n",
       "  Gender  \n",
       "0      M  "
      ]
     },
     "execution_count": 18,
     "metadata": {},
     "output_type": "execute_result"
    }
   ],
   "source": [
    "df_male.mode()"
   ]
  },
  {
   "cell_type": "code",
   "execution_count": 19,
   "metadata": {},
   "outputs": [
    {
     "data": {
      "text/html": [
       "<div>\n",
       "<style scoped>\n",
       "    .dataframe tbody tr th:only-of-type {\n",
       "        vertical-align: middle;\n",
       "    }\n",
       "\n",
       "    .dataframe tbody tr th {\n",
       "        vertical-align: top;\n",
       "    }\n",
       "\n",
       "    .dataframe thead th {\n",
       "        text-align: right;\n",
       "    }\n",
       "</style>\n",
       "<table border=\"1\" class=\"dataframe\">\n",
       "  <thead>\n",
       "    <tr style=\"text-align: right;\">\n",
       "      <th></th>\n",
       "      <th>Favorite_Color</th>\n",
       "      <th>Favorite_Music_Genre</th>\n",
       "      <th>Favorite_Beverage</th>\n",
       "      <th>Favorite_Soft_Drink</th>\n",
       "      <th>Gender</th>\n",
       "    </tr>\n",
       "  </thead>\n",
       "  <tbody>\n",
       "    <tr>\n",
       "      <th>0</th>\n",
       "      <td>Cool</td>\n",
       "      <td>Pop</td>\n",
       "      <td>Beer</td>\n",
       "      <td>Coca Cola/Pepsi</td>\n",
       "      <td>F</td>\n",
       "    </tr>\n",
       "    <tr>\n",
       "      <th>1</th>\n",
       "      <td>NaN</td>\n",
       "      <td>NaN</td>\n",
       "      <td>Whiskey</td>\n",
       "      <td>NaN</td>\n",
       "      <td>NaN</td>\n",
       "    </tr>\n",
       "  </tbody>\n",
       "</table>\n",
       "</div>"
      ],
      "text/plain": [
       "  Favorite_Color Favorite_Music_Genre Favorite_Beverage Favorite_Soft_Drink  \\\n",
       "0           Cool                  Pop              Beer     Coca Cola/Pepsi   \n",
       "1            NaN                  NaN           Whiskey                 NaN   \n",
       "\n",
       "  Gender  \n",
       "0      F  \n",
       "1    NaN  "
      ]
     },
     "execution_count": 19,
     "metadata": {},
     "output_type": "execute_result"
    }
   ],
   "source": [
    "df_female.mode()"
   ]
  },
  {
   "cell_type": "code",
   "execution_count": 20,
   "metadata": {},
   "outputs": [],
   "source": [
    "# importing seaborn for visual inspection of data\n",
    "import seaborn as sns"
   ]
  },
  {
   "cell_type": "code",
   "execution_count": 21,
   "metadata": {},
   "outputs": [
    {
     "data": {
      "text/plain": [
       "<matplotlib.axes._subplots.AxesSubplot at 0x13255c310>"
      ]
     },
     "execution_count": 21,
     "metadata": {},
     "output_type": "execute_result"
    },
    {
     "data": {
      "image/png": "[encoded data removed]",
      "text/plain": [
       "<Figure size 432x288 with 1 Axes>"
      ]
     },
     "metadata": {
      "needs_background": "light"
     },
     "output_type": "display_data"
    }
   ],
   "source": [
    "sns.countplot('Favorite_Color', hue='Gender', data=df, palette='Greens')"
   ]
  },
  {
   "cell_type": "code",
   "execution_count": 22,
   "metadata": {},
   "outputs": [
    {
     "data": {
      "text/plain": [
       "<matplotlib.axes._subplots.AxesSubplot at 0x12db91e90>"
      ]
     },
     "execution_count": 22,
     "metadata": {},
     "output_type": "execute_result"
    },
    {
     "data": {
      "image/png": "[encoded data removed]",
      "text/plain": [
       "<Figure size 432x288 with 1 Axes>"
      ]
     },
     "metadata": {
      "needs_background": "light"
     },
     "output_type": "display_data"
    }
   ],
   "source": [
    "sns.countplot(y='Favorite_Music_Genre', hue='Gender', data=df, palette='Greens')"
   ]
  },
  {
   "cell_type": "code",
   "execution_count": 23,
   "metadata": {},
   "outputs": [
    {
     "data": {
      "text/plain": [
       "<matplotlib.axes._subplots.AxesSubplot at 0x12db61d10>"
      ]
     },
     "execution_count": 23,
     "metadata": {},
     "output_type": "execute_result"
    },
    {
     "data": {
      "image/png": "[encoded data removed]",
      "text/plain": [
       "<Figure size 432x288 with 1 Axes>"
      ]
     },
     "metadata": {
      "needs_background": "light"
     },
     "output_type": "display_data"
    }
   ],
   "source": [
    "sns.countplot('Favorite_Beverage', hue='Gender', data=df, palette='Greens')"
   ]
  },
  {
   "cell_type": "code",
   "execution_count": 24,
   "metadata": {},
   "outputs": [
    {
     "data": {
      "image/png": "[encoded data removed]",
      "text/plain": [
       "<Figure size 432x288 with 1 Axes>"
      ]
     },
     "metadata": {
      "needs_background": "light"
     },
     "output_type": "display_data"
    }
   ],
   "source": [
    "sns.countplot(y='Favorite_Soft_Drink', hue='Gender', data=df, palette='Greens');"
   ]
  },
  {
   "cell_type": "markdown",
   "metadata": {},
   "source": [
    "The following lines implements the core algorithm and tests it"
   ]
  },
  {
   "cell_type": "code",
   "execution_count": 25,
   "metadata": {},
   "outputs": [],
   "source": [
    "def compute_support_per_category(column_name, data_frame):\n",
    "    values = data_frame[column_name].value_counts(normalize=True).keys().tolist()\n",
    "    counts = data_frame[column_name].value_counts(normalize=True).tolist()  \n",
    "    results = dict(zip(values, counts))\n",
    "    return results\n",
    "\n",
    "columns = ['Favorite_Color', 'Favorite_Music_Genre', 'Favorite_Beverage', 'Favorite_Soft_Drink']"
   ]
  },
  {
   "cell_type": "code",
   "execution_count": 26,
   "metadata": {},
   "outputs": [],
   "source": [
    "def generate_support(data_frame):\n",
    "    response_dict = {}\n",
    "    for col in columns:\n",
    "        response_dict[col] = compute_support_per_category(col, data_frame)\n",
    "    return response_dict"
   ]
  },
  {
   "cell_type": "code",
   "execution_count": 27,
   "metadata": {},
   "outputs": [],
   "source": [
    "male = generate_support(df_male)\n",
    "female = generate_support(df_female)"
   ]
  },
  {
   "cell_type": "code",
   "execution_count": 28,
   "metadata": {},
   "outputs": [
    {
     "data": {
      "text/plain": [
       "{'Favorite_Color': {'Cool': 0.56, 'Warm': 0.32, 'Neutral': 0.12},\n",
       " 'Favorite_Music_Genre': {'Rock': 0.28,\n",
       "  'Electronic': 0.24,\n",
       "  'Hip hop': 0.2,\n",
       "  'R&B and soul': 0.12,\n",
       "  'Pop': 0.08,\n",
       "  'Jazz/Blues': 0.04,\n",
       "  'Folk/Traditional': 0.04},\n",
       " 'Favorite_Beverage': {\"Doesn't drink\": 0.28,\n",
       "  'Other': 0.16,\n",
       "  'Beer': 0.16,\n",
       "  'Vodka': 0.16,\n",
       "  'Wine': 0.12,\n",
       "  'Whiskey': 0.12},\n",
       " 'Favorite_Soft_Drink': {'Coca Cola/Pepsi': 0.4,\n",
       "  'Fanta': 0.28,\n",
       "  'Other': 0.16,\n",
       "  '7UP/Sprite': 0.16}}"
      ]
     },
     "execution_count": 28,
     "metadata": {},
     "output_type": "execute_result"
    }
   ],
   "source": [
    "male"
   ]
  },
  {
   "cell_type": "code",
   "execution_count": 29,
   "metadata": {},
   "outputs": [
    {
     "data": {
      "text/plain": [
       "{'Favorite_Color': {'Cool': 0.6, 'Warm': 0.36, 'Neutral': 0.04},\n",
       " 'Favorite_Music_Genre': {'Pop': 0.4,\n",
       "  'Rock': 0.24,\n",
       "  'Jazz/Blues': 0.08,\n",
       "  'Electronic': 0.08,\n",
       "  'Folk/Traditional': 0.08,\n",
       "  'R&B and soul': 0.08,\n",
       "  'Hip hop': 0.04},\n",
       " 'Favorite_Beverage': {'Whiskey': 0.2,\n",
       "  'Beer': 0.2,\n",
       "  'Other': 0.16,\n",
       "  \"Doesn't drink\": 0.16,\n",
       "  'Wine': 0.16,\n",
       "  'Vodka': 0.12},\n",
       " 'Favorite_Soft_Drink': {'Coca Cola/Pepsi': 0.52,\n",
       "  '7UP/Sprite': 0.2,\n",
       "  'Fanta': 0.2,\n",
       "  'Other': 0.08}}"
      ]
     },
     "execution_count": 29,
     "metadata": {},
     "output_type": "execute_result"
    }
   ],
   "source": [
    "female"
   ]
  },
  {
   "cell_type": "code",
   "execution_count": 30,
   "metadata": {},
   "outputs": [],
   "source": [
    "from collections import OrderedDict\n",
    "#women\n",
    "woman = OrderedDict()\n",
    "\n",
    "for col in columns:\n",
    "    res = {key: abs(female[col][key] - male[col].get(key, 0)) \n",
    "                       for key in male[col].keys()} \n",
    "    woman.update({col: res})"
   ]
  },
  {
   "cell_type": "code",
   "execution_count": 31,
   "metadata": {},
   "outputs": [
    {
     "data": {
      "text/plain": [
       "OrderedDict([('Favorite_Color', {}),\n",
       "             ('Favorite_Music_Genre', {'Pop': 0.32}),\n",
       "             ('Favorite_Beverage', {}),\n",
       "             ('Favorite_Soft_Drink', {})])"
      ]
     },
     "execution_count": 31,
     "metadata": {},
     "output_type": "execute_result"
    }
   ],
   "source": [
    "#Actual Algorithm\n",
    "for key in columns:\n",
    "    for k in list(woman[key]): \n",
    "        if woman[key][k]<= 0.2:\n",
    "            del woman[key][k]\n",
    "woman"
   ]
  },
  {
   "cell_type": "code",
   "execution_count": 32,
   "metadata": {},
   "outputs": [],
   "source": [
    "df_train = pd.concat([df_male, df_female])"
   ]
  },
  {
   "cell_type": "code",
   "execution_count": 33,
   "metadata": {},
   "outputs": [
    {
     "data": {
      "text/plain": [
       "Doesn't drink    11\n",
       "Beer              9\n",
       "Other             8\n",
       "Whiskey           8\n",
       "Wine              7\n",
       "Vodka             7\n",
       "Name: Favorite_Beverage, dtype: int64"
      ]
     },
     "execution_count": 33,
     "metadata": {},
     "output_type": "execute_result"
    }
   ],
   "source": [
    "df_train['Favorite_Beverage'].value_counts()"
   ]
  },
  {
   "cell_type": "code",
   "execution_count": 34,
   "metadata": {},
   "outputs": [
    {
     "data": {
      "text/plain": [
       "Doesn't drink    7\n",
       "Other            4\n",
       "Beer             4\n",
       "Vodka            4\n",
       "Wine             3\n",
       "Whiskey          3\n",
       "Name: Favorite_Beverage, dtype: int64"
      ]
     },
     "execution_count": 34,
     "metadata": {},
     "output_type": "execute_result"
    }
   ],
   "source": [
    "df_male['Favorite_Beverage'].value_counts()"
   ]
  },
  {
   "cell_type": "code",
   "execution_count": 35,
   "metadata": {},
   "outputs": [
    {
     "data": {
      "text/plain": [
       "Whiskey          5\n",
       "Beer             5\n",
       "Other            4\n",
       "Doesn't drink    4\n",
       "Wine             4\n",
       "Vodka            3\n",
       "Name: Favorite_Beverage, dtype: int64"
      ]
     },
     "execution_count": 35,
     "metadata": {},
     "output_type": "execute_result"
    }
   ],
   "source": [
    "df_female['Favorite_Beverage'].value_counts()"
   ]
  },
  {
   "cell_type": "code",
   "execution_count": 36,
   "metadata": {},
   "outputs": [
    {
     "name": "stdout",
     "output_type": "stream",
     "text": [
      "actual --- M\n",
      "predicted --- M\n",
      "--------------\n",
      "actual --- M\n",
      "predicted --- M\n",
      "--------------\n",
      "actual --- M\n",
      "predicted --- F\n",
      "--------------\n",
      "actual --- M\n",
      "predicted --- F\n",
      "--------------\n",
      "actual --- M\n",
      "predicted --- F\n",
      "--------------\n",
      "actual --- M\n",
      "predicted --- F\n",
      "--------------\n",
      "actual --- F\n",
      "predicted --- F\n",
      "--------------\n",
      "actual --- F\n",
      "predicted --- F\n",
      "--------------\n",
      "actual --- F\n",
      "predicted --- F\n",
      "--------------\n",
      "actual --- F\n",
      "predicted --- F\n",
      "--------------\n",
      "actual --- F\n",
      "predicted --- F\n",
      "--------------\n",
      "actual --- F\n",
      "predicted --- F\n",
      "--------------\n"
     ]
    }
   ],
   "source": [
    "result = 'M'\n",
    "vote_male = 0\n",
    "vote_female = 0\n",
    "\n",
    "for index, row in df_test.iterrows():\n",
    "    if row['Favorite_Color'] in woman['Favorite_Color']:\n",
    "        result = 'F'\n",
    "    if row['Favorite_Music_Genre'] in woman['Favorite_Music_Genre']:\n",
    "        result = 'F'\n",
    "    if row['Favorite_Beverage'] in woman['Favorite_Beverage']:\n",
    "        result = 'F'\n",
    "    if row['Favorite_Soft_Drink'] in woman['Favorite_Soft_Drink']:\n",
    "        result = 'F'\n",
    "    \n",
    "    print('actual ---', row['Gender'])\n",
    "    print('predicted ---', result)\n",
    "    print('--------------')   "
   ]
  },
  {
   "cell_type": "code",
   "execution_count": null,
   "metadata": {},
   "outputs": [],
   "source": []
  },
  {
   "cell_type": "code",
   "execution_count": null,
   "metadata": {},
   "outputs": [],
   "source": []
  }
 ],
 "metadata": {
  "kernelspec": {
   "display_name": "Python 3",
   "language": "python",
   "name": "python3"
  },
  "language_info": {
   "codemirror_mode": {
    "name": "ipython",
    "version": 3
   },
   "file_extension": ".py",
   "mimetype": "text/x-python",
   "name": "python",
   "nbconvert_exporter": "python",
   "pygments_lexer": "ipython3",
   "version": "3.7.5"
  }
 },
 "nbformat": 4,
 "nbformat_minor": 2
}
